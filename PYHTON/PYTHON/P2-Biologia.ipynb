{
 "cells": [
  {
   "cell_type": "markdown",
   "id": "985e6f9b",
   "metadata": {},
   "source": [
    "# PRACTICA 2\n",
    "\n",
    "### ¡Con todo lo aprendido con Python, vamos a resolver unos ejercicios de Bioinformática!\n",
    "\n",
    "#### 1.- Concatena las cadenas ATGCC y TCCG"
   ]
  },
  {
   "cell_type": "code",
   "execution_count": 2,
   "id": "c06c7b6f",
   "metadata": {},
   "outputs": [],
   "source": [
    "cadena1 = \"ATGCC\"\n",
    "cadena2 = \"TCCG\""
   ]
  },
  {
   "cell_type": "code",
   "execution_count": 3,
   "id": "b845927c",
   "metadata": {},
   "outputs": [
    {
     "name": "stdout",
     "output_type": "stream",
     "text": [
      "ATGCCTCCG\n"
     ]
    }
   ],
   "source": [
    "resultado = cadena1 + cadena2\n",
    "print(resultado)"
   ]
  },
  {
   "cell_type": "markdown",
   "id": "1f4b7708",
   "metadata": {},
   "source": [
    "#### 2.- ¿Cuál es la longitud de ATGCGAGT?"
   ]
  },
  {
   "cell_type": "code",
   "execution_count": 3,
   "id": "8f78cad8",
   "metadata": {},
   "outputs": [],
   "source": [
    "dna=\"ATGCGAGT\""
   ]
  },
  {
   "cell_type": "code",
   "execution_count": 4,
   "id": "ecce1da6",
   "metadata": {},
   "outputs": [
    {
     "name": "stdout",
     "output_type": "stream",
     "text": [
      "8\n"
     ]
    }
   ],
   "source": [
    "dna = \"ATGCGAGT\"\n",
    "longitud = len(dna)\n",
    "print(longitud)"
   ]
  },
  {
   "cell_type": "markdown",
   "id": "6361c287",
   "metadata": {},
   "source": [
    "#### 3.- Con la cadena mgXDyTw, ponla en mayúsculas, luego en minúsculas. Extrae su longitud y divide la cadena por la letra \"g\""
   ]
  },
  {
   "cell_type": "code",
   "execution_count": 5,
   "id": "b69beca1",
   "metadata": {},
   "outputs": [],
   "source": [
    "cadena=\"mgXDyTw\""
   ]
  },
  {
   "cell_type": "code",
   "execution_count": 6,
   "id": "51591dca",
   "metadata": {},
   "outputs": [
    {
     "name": "stdout",
     "output_type": "stream",
     "text": [
      "Mayúsculas: MGXDYTW\n",
      "Minúsculas: mgxdytw\n",
      "Longitud: 7\n",
      "Dividida por 'g': ['m', 'XDyTw']\n"
     ]
    }
   ],
   "source": [
    "cadena = \"mgXDyTw\"\n",
    "\n",
    "# Poner en mayúsculas\n",
    "mayus = cadena.upper()\n",
    "print(\"Mayúsculas:\", mayus)\n",
    "\n",
    "# Poner en minúsculas\n",
    "minus = cadena.lower()\n",
    "print(\"Minúsculas:\", minus)\n",
    "\n",
    "# Longitud\n",
    "longitud = len(cadena)\n",
    "print(\"Longitud:\", longitud)\n",
    "\n",
    "# Dividir la cadena por la letra \"g\"\n",
    "dividida = cadena.split(\"g\")\n",
    "print(\"Dividida por 'g':\", dividida)\n"
   ]
  },
  {
   "cell_type": "markdown",
   "id": "91c2ca9d",
   "metadata": {},
   "source": [
    "#### 4.- Con la secuencia de aminoácidos vlspadktnv, reemplaza la valina con la tirosina. Pista: usa replace()"
   ]
  },
  {
   "cell_type": "code",
   "execution_count": 14,
   "id": "a049ecdd",
   "metadata": {},
   "outputs": [],
   "source": [
    "aa = \"vlspadktnv\""
   ]
  },
  {
   "cell_type": "code",
   "execution_count": 7,
   "id": "0c464cc2",
   "metadata": {},
   "outputs": [
    {
     "name": "stdout",
     "output_type": "stream",
     "text": [
      "Original: vlspadktnv\n",
      "Modificada: ylspadktny\n"
     ]
    }
   ],
   "source": [
    "secuencia = \"vlspadktnv\"\n",
    "\n",
    "# reemplazar \"v\" (valina) por \"y\" (tirosina)\n",
    "nueva_secuencia = secuencia.replace(\"v\", \"y\")\n",
    "\n",
    "print(\"Original:\", secuencia)\n",
    "print(\"Modificada:\", nueva_secuencia)\n"
   ]
  },
  {
   "cell_type": "markdown",
   "id": "97f9ecd6",
   "metadata": {},
   "source": [
    "#### 5.- Cuenta las valinas de la secuencia original anterior.C "
   ]
  },
  {
   "cell_type": "code",
   "execution_count": 8,
   "id": "b4b5600f",
   "metadata": {},
   "outputs": [
    {
     "name": "stdout",
     "output_type": "stream",
     "text": [
      "Número de valinas: 2\n"
     ]
    }
   ],
   "source": [
    "secuencia = \"vlspadktnv\"\n",
    "\n",
    "# Contar cuántas veces aparece \"v\"\n",
    "num_valinas = secuencia.count(\"v\")\n",
    "\n",
    "print(\"Número de valinas:\", num_valinas)"
   ]
  },
  {
   "cell_type": "markdown",
   "id": "6aac8e24",
   "metadata": {},
   "source": [
    "#### 6.- Con el diccionario siguiente imprime el valor de BisI y saca el valor de EcoRI con pop(). ¿Qué pasa con el diccionario?"
   ]
  },
  {
   "cell_type": "code",
   "execution_count": 9,
   "id": "c0c811d7",
   "metadata": {},
   "outputs": [],
   "source": [
    "enzR = {\n",
    "    'EcoRI':r'GAATTC',\n",
    "    'AvaII':r'GG(A|T)CC',\n",
    "    'BisI':r'GC[ATGC]GC'\n",
    "}"
   ]
  },
  {
   "cell_type": "code",
   "execution_count": 11,
   "id": "5dacb009",
   "metadata": {},
   "outputs": [
    {
     "name": "stdout",
     "output_type": "stream",
     "text": [
      "Valor de BisI: GCNGC\n",
      "Valor extraído de EcoRI: GAATTC\n",
      "Diccionario después de pop: {'BamHI': 'GGATCC', 'BisI': 'GCNGC'}\n"
     ]
    }
   ],
   "source": [
    "enzimas = {\n",
    "    \"EcoRI\": \"GAATTC\",\n",
    "    \"BamHI\": \"GGATCC\",\n",
    "    \"BisI\": \"GCNGC\"\n",
    "}\n",
    "\n",
    "# Imprimir el valor de BisI\n",
    "print(\"Valor de BisI:\", enzimas[\"BisI\"])\n",
    "\n",
    "# Extraer (y eliminar) el valor de EcoRI con pop()\n",
    "valor_ecori = enzimas.pop(\"EcoRI\")\n",
    "print(\"Valor extraído de EcoRI:\", valor_ecori)\n",
    "\n",
    "# Ver cómo quedó el diccionario\n",
    "print(\"Diccionario después de pop:\", enzimas)\n"
   ]
  },
  {
   "cell_type": "markdown",
   "id": "4646bddd",
   "metadata": {},
   "source": [
    "#### 7.- Con la secuencia y la lista siguiente, escribe un algoritmo que cuente el número de veces que aparece un elemento de la lista en la secuencia. Pista: hacer un diccionario para almacenar los resultados puede ser buena idea"
   ]
  },
  {
   "cell_type": "code",
   "execution_count": 22,
   "id": "0a701a5e",
   "metadata": {},
   "outputs": [],
   "source": [
    "dna = \"AATGATGAACGAC\" \n",
    "dinucleotides = ['AA','AT','AG','AC', \n",
    "                 'TA','TT','TG','TC', \n",
    "                 'GA','GT','GG','GC', \n",
    "                 'CA','CT','CG','CT'] "
   ]
  },
  {
   "cell_type": "code",
   "execution_count": 12,
   "id": "e028dbc8",
   "metadata": {},
   "outputs": [
    {
     "name": "stdout",
     "output_type": "stream",
     "text": [
      "{'AA': 2, 'AT': 2, 'AG': 0, 'AC': 2, 'TA': 0, 'TT': 0, 'TG': 2, 'TC': 0, 'GA': 3, 'GT': 0, 'GG': 0, 'GC': 0, 'CA': 0, 'CT': 0, 'CG': 1, 'CC': 0}\n"
     ]
    }
   ],
   "source": [
    "dna = \"AATGATGAACGAC\"\n",
    "dinucleotidos = ['AA','AT','AG','AC',\n",
    "                 'TA','TT','TG','TC',\n",
    "                 'GA','GT','GG','GC',\n",
    "                 'CA','CT','CG','CC']\n",
    "\n",
    "# Creamos un diccionario vacío\n",
    "conteo = {}\n",
    "\n",
    "# Recorremos cada dinucleótido y contamos en la secuencia\n",
    "for d in dinucleotidos:\n",
    "    conteo[d] = dna.count(d)\n",
    "\n",
    "# Imprimimos el resultado\n",
    "print(conteo)\n"
   ]
  },
  {
   "cell_type": "markdown",
   "id": "a44b5e4c",
   "metadata": {},
   "source": [
    "##### ¿Cuántos counts tiene TC?"
   ]
  },
  {
   "cell_type": "code",
   "execution_count": 13,
   "id": "3003eef4",
   "metadata": {},
   "outputs": [
    {
     "data": {
      "text/plain": [
       "0"
      ]
     },
     "execution_count": 13,
     "metadata": {},
     "output_type": "execute_result"
    }
   ],
   "source": [
    "dna.count(\"TC\")"
   ]
  },
  {
   "cell_type": "markdown",
   "id": "70245f18",
   "metadata": {},
   "source": [
    "##### ¿Puedes imprimir los dinuleótidos que tengan counts igual a 2?"
   ]
  },
  {
   "cell_type": "code",
   "execution_count": 15,
   "id": "b83480e8",
   "metadata": {},
   "outputs": [
    {
     "name": "stdout",
     "output_type": "stream",
     "text": [
      "AA → 2\n",
      "AT → 2\n",
      "AC → 2\n",
      "TG → 2\n"
     ]
    }
   ],
   "source": [
    "dna = \"AATGATGAACGAC\"\n",
    "dinucleotidos = ['AA','AT','AG','AC',\n",
    "                 'TA','TT','TG','TC',\n",
    "                 'GA','GT','GG','GC',\n",
    "                 'CA','CT','CG','CC']\n",
    "\n",
    "conteo = {}\n",
    "\n",
    "for d in dinucleotidos:\n",
    "    conteo[d] = dna.count(d)\n",
    "\n",
    "# Imprimir solo los que tienen count == 2\n",
    "for d, c in conteo.items():\n",
    "    if c == 2:\n",
    "        print(d, \"→\", c)"
   ]
  }
 ],
 "metadata": {
  "kernelspec": {
   "display_name": "Python [conda env:base] *",
   "language": "python",
   "name": "conda-base-py"
  },
  "language_info": {
   "codemirror_mode": {
    "name": "ipython",
    "version": 3
   },
   "file_extension": ".py",
   "mimetype": "text/x-python",
   "name": "python",
   "nbconvert_exporter": "python",
   "pygments_lexer": "ipython3",
   "version": "3.13.5"
  }
 },
 "nbformat": 4,
 "nbformat_minor": 5
}
