{
 "cells": [
  {
   "cell_type": "markdown",
   "id": "8c33a0f5-d02b-4eb4-afdf-90d43ab895a6",
   "metadata": {},
   "source": [
    "# PRIMER NOTEBOOK"
   ]
  },
  {
   "cell_type": "markdown",
   "id": "71f95580-3b71-4957-8279-84fbab093304",
   "metadata": {},
   "source": [
    "Este es mi primer notebook y voy a hacer lo siguiente.\n",
    "\n",
    "Una lista enumerada:  \n",
    "1. Primero  \n",
    "2. Segundo  \n",
    "3. Tercero  \n",
    "\n",
    "Una lista por puntos:  \n",
    "- Primero  \n",
    "- Segundo  \n",
    "- Tercero\n",
    "\n",
    "Mi primer código:"
   ]
  },
  {
   "cell_type": "code",
   "execution_count": 4,
   "id": "4a2e83a3-90ba-4f1d-8e95-b1874cba7675",
   "metadata": {},
   "outputs": [
    {
     "name": "stdout",
     "output_type": "stream",
     "text": [
      "Hello world\n"
     ]
    }
   ],
   "source": [
    "mi_primera_frase = \"Hello world\"\n",
    "\n",
    "# Como cuando lo ejecuto no sale nada, tengo que usar la función print()\n",
    "print(mi_primera_frase)"
   ]
  },
  {
   "cell_type": "code",
   "execution_count": 5,
   "id": "0152f9cb-162a-4f29-b133-3e2fe09bc6d7",
   "metadata": {},
   "outputs": [
    {
     "name": "stdout",
     "output_type": "stream",
     "text": [
      "30.0\n"
     ]
    }
   ],
   "source": [
    "# A ver si lo entiendes mejor:\n",
    "numeros = [10, 20, 30, 40, 50]\n",
    "media = sum(numeros) / len(numeros)\n",
    "\n",
    "print(media)"
   ]
  },
  {
   "cell_type": "markdown",
   "id": "9173f08e-0304-4f7e-943b-6575504beea2",
   "metadata": {},
   "source": [
    "finalizamos con una bonita imagen\n",
    "![Mi imagen](j.jpg)\n"
   ]
  }
 ],
 "metadata": {
  "kernelspec": {
   "display_name": "Python [conda env:base] *",
   "language": "python",
   "name": "conda-base-py"
  },
  "language_info": {
   "codemirror_mode": {
    "name": "ipython",
    "version": 3
   },
   "file_extension": ".py",
   "mimetype": "text/x-python",
   "name": "python",
   "nbconvert_exporter": "python",
   "pygments_lexer": "ipython3",
   "version": "3.13.5"
  }
 },
 "nbformat": 4,
 "nbformat_minor": 5
}
